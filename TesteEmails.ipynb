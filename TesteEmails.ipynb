{
 "cells": [
  {
   "cell_type": "code",
   "execution_count": 39,
   "metadata": {
    "collapsed": true
   },
   "outputs": [],
   "source": [
    "from jinja2 import Environment, FileSystemLoader\n",
    "import pandas as pd\n",
    "import os"
   ]
  },
  {
   "cell_type": "code",
   "execution_count": 56,
   "metadata": {},
   "outputs": [],
   "source": [
    "# Carrega template\n",
    "env = Environment(loader=FileSystemLoader('.'))\n",
    "template = env.get_template('template.html')"
   ]
  },
  {
   "cell_type": "code",
   "execution_count": 57,
   "metadata": {},
   "outputs": [
    {
     "data": {
      "text/html": [
       "<div>\n",
       "<style>\n",
       "    .dataframe thead tr:only-child th {\n",
       "        text-align: right;\n",
       "    }\n",
       "\n",
       "    .dataframe thead th {\n",
       "        text-align: left;\n",
       "    }\n",
       "\n",
       "    .dataframe tbody tr th {\n",
       "        vertical-align: top;\n",
       "    }\n",
       "</style>\n",
       "<table border=\"1\" class=\"dataframe\">\n",
       "  <thead>\n",
       "    <tr style=\"text-align: right;\">\n",
       "      <th></th>\n",
       "      <th>Nome</th>\n",
       "      <th>Coluna1</th>\n",
       "      <th>Coluna2</th>\n",
       "      <th>Coluna3</th>\n",
       "      <th>Comentários</th>\n",
       "    </tr>\n",
       "  </thead>\n",
       "  <tbody>\n",
       "    <tr>\n",
       "      <th>0</th>\n",
       "      <td>Aluno1</td>\n",
       "      <td>lorem</td>\n",
       "      <td>sit</td>\n",
       "      <td>sint</td>\n",
       "      <td>- Nam soleat corrumpit no\\n- Vero novum legend...</td>\n",
       "    </tr>\n",
       "    <tr>\n",
       "      <th>1</th>\n",
       "      <td>Aluno2</td>\n",
       "      <td>ipsum</td>\n",
       "      <td>amet</td>\n",
       "      <td>case</td>\n",
       "      <td>- ei paulo referrentur pri\\n- no dolores elect...</td>\n",
       "    </tr>\n",
       "    <tr>\n",
       "      <th>2</th>\n",
       "      <td>Aluno3</td>\n",
       "      <td>dolor</td>\n",
       "      <td>ei</td>\n",
       "      <td>vim</td>\n",
       "      <td>- Decore soleat fuisset at vel\\n- ius ex natum...</td>\n",
       "    </tr>\n",
       "  </tbody>\n",
       "</table>\n",
       "</div>"
      ],
      "text/plain": [
       "     Nome Coluna1 Coluna2 Coluna3  \\\n",
       "0  Aluno1   lorem     sit    sint   \n",
       "1  Aluno2   ipsum    amet    case   \n",
       "2  Aluno3   dolor      ei     vim   \n",
       "\n",
       "                                         Comentários  \n",
       "0  - Nam soleat corrumpit no\\n- Vero novum legend...  \n",
       "1  - ei paulo referrentur pri\\n- no dolores elect...  \n",
       "2  - Decore soleat fuisset at vel\\n- ius ex natum...  "
      ]
     },
     "execution_count": 57,
     "metadata": {},
     "output_type": "execute_result"
    }
   ],
   "source": [
    "# Cria diretório para salvar os .html\n",
    "if not os.path.isdir('html'):\n",
    "    os.mkdir('html')\n",
    "\n",
    "# Carrega dados\n",
    "dados = pd.read_excel('dados.xlsx')\n",
    "dados"
   ]
  },
  {
   "cell_type": "code",
   "execution_count": 58,
   "metadata": {},
   "outputs": [],
   "source": [
    "for aluno in dados.itertuples():\n",
    "    email = template.render(aluno=aluno)\n",
    "    with open(os.path.join('html', '%s.html' % aluno.Nome), 'w') as arquivo_html:\n",
    "        arquivo_html.write(email)"
   ]
  },
  {
   "cell_type": "code",
   "execution_count": null,
   "metadata": {
    "collapsed": true
   },
   "outputs": [],
   "source": []
  }
 ],
 "metadata": {
  "kernelspec": {
   "display_name": "Python 3",
   "language": "python",
   "name": "python3"
  },
  "language_info": {
   "codemirror_mode": {
    "name": "ipython",
    "version": 3
   },
   "file_extension": ".py",
   "mimetype": "text/x-python",
   "name": "python",
   "nbconvert_exporter": "python",
   "pygments_lexer": "ipython3",
   "version": "3.6.1"
  }
 },
 "nbformat": 4,
 "nbformat_minor": 2
}
